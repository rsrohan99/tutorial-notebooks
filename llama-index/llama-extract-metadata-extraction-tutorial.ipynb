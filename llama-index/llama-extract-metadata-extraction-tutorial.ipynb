{
 "cells": [
  {
   "cell_type": "code",
   "execution_count": 9,
   "id": "71f274e5-88a4-47d1-96a1-316e904343e0",
   "metadata": {},
   "outputs": [
    {
     "name": "stdout",
     "output_type": "stream",
     "text": [
      "done\n"
     ]
    }
   ],
   "source": [
    "from dotenv import load_dotenv\n",
    "load_dotenv()\n",
    "\n",
    "import nest_asyncio\n",
    "nest_asyncio.apply()\n",
    "print('done')"
   ]
  },
  {
   "cell_type": "code",
   "execution_count": 10,
   "id": "dbd1d972-a022-4595-b2ca-80ac7361f3ae",
   "metadata": {},
   "outputs": [],
   "source": [
    "from typing import List, Optional, Literal\n",
    "from pydantic import BaseModel, Field"
   ]
  },
  {
   "cell_type": "code",
   "execution_count": 14,
   "id": "e558451c-b94d-418e-8275-e4b5959fddbf",
   "metadata": {},
   "outputs": [],
   "source": [
    "class ResumeMetadata(BaseModel):\n",
    "    years_of_experience: int = Field(..., description=\"Number of years of work experience.\")\n",
    "    state: str = Field(None, description=\"The candidate's current state where they live (2 letter state abbreviation e.g. CA, AZ etc.).\")\n",
    "    highest_degree: Literal['High School', 'Bachelor\\'s', 'Master\\'s', 'Doctoral', 'Professional'] = Field(None, description=\"The highest degree attained by the candidate.\")\n",
    "    institution: str = Field(None, description=\"The institution from which the degree was earned.\")\n",
    "    expert_in: Literal['Accounting', 'Sales', 'Payroll', 'Inventory', 'Customer Service', 'Project Management', 'Finance', 'Bookkeeping'] = Field(None, description=\"What the candidate is most experienced and skilled in.\")\n",
    "    professional_summary: str = Field(None, description=\"A brief summary of the candidate's professional experience, background and career.\")"
   ]
  },
  {
   "cell_type": "code",
   "execution_count": 12,
   "id": "36dc9afd-0ab1-44e4-8db6-04926665608d",
   "metadata": {},
   "outputs": [],
   "source": [
    "from llama_extract import LlamaExtract\n",
    "\n",
    "extractor = LlamaExtract()"
   ]
  },
  {
   "cell_type": "code",
   "execution_count": null,
   "id": "0a4a4217-c1c7-42af-9001-3ee7b88252f2",
   "metadata": {},
   "outputs": [],
   "source": [
    "metadata_schema = extractor.create_schema(\"Resume Metadata\", ResumeMetadata.schema())"
   ]
  },
  {
   "cell_type": "code",
   "execution_count": 13,
   "id": "6c75a503-afa8-4405-a179-114eb50744a2",
   "metadata": {},
   "outputs": [],
   "source": [
    "metadata_schema = extractor.get_schema('2b36f3f2-757d-463c-8205-c47ebe49c294')"
   ]
  },
  {
   "cell_type": "code",
   "execution_count": 15,
   "id": "3e863207-e325-4ce0-9632-c76252c26266",
   "metadata": {},
   "outputs": [],
   "source": [
    "metadata_schema = extractor.update_schema(metadata_schema.id, ResumeMetadata.schema())"
   ]
  },
  {
   "cell_type": "code",
   "execution_count": 18,
   "id": "b2365797-123f-4660-8054-e0246a3f1560",
   "metadata": {},
   "outputs": [
    {
     "name": "stderr",
     "output_type": "stream",
     "text": [
      "Extracting files: 100%|████████████████████████████████████████████████████████████████████████████████████████████████████████████████████| 3/3 [06:53<00:00, 137.89s/it]\n"
     ]
    }
   ],
   "source": [
    "resume_files = ['resume1.pdf', 'resume2.pdf', 'resume3.pdf']\n",
    "all_metadata, all_metadata_models = extractor.extract(metadata_schema.id, resume_files, response_model=ResumeMetadata)"
   ]
  },
  {
   "cell_type": "code",
   "execution_count": 19,
   "id": "6fbee557-afae-45ae-812c-a7ca70b757c1",
   "metadata": {},
   "outputs": [],
   "source": [
    "from llama_parse import LlamaParse\n",
    "parser = LlamaParse(split_by_page=False)"
   ]
  },
  {
   "cell_type": "code",
   "execution_count": 20,
   "id": "59ed39d8-d7f5-4951-97aa-885557e7af39",
   "metadata": {},
   "outputs": [
    {
     "name": "stderr",
     "output_type": "stream",
     "text": [
      "Parsing files: 100%|████████████████████████████████████████████████████████████████████████████████████████████████████████████████████████| 3/3 [00:25<00:00,  8.38s/it]\n"
     ]
    }
   ],
   "source": [
    "documents = parser.load_data(resume_files)"
   ]
  },
  {
   "cell_type": "code",
   "execution_count": 27,
   "id": "e82561b5-5e2f-4333-a3ff-8aa73a38610e",
   "metadata": {},
   "outputs": [
    {
     "data": {
      "text/plain": [
       "3"
      ]
     },
     "execution_count": 27,
     "metadata": {},
     "output_type": "execute_result"
    }
   ],
   "source": [
    "len(documents)"
   ]
  },
  {
   "cell_type": "code",
   "execution_count": null,
   "id": "8d98697f-28d6-4b5d-8d81-5ab60a2b1617",
   "metadata": {},
   "outputs": [],
   "source": [
    "for document, metadata in zip(documents, all_metadata):\n",
    "    document.metadata = metadata.data"
   ]
  },
  {
   "cell_type": "code",
   "execution_count": 30,
   "id": "8fe2ff97-1b2e-4839-8494-d262ddffa26a",
   "metadata": {},
   "outputs": [
    {
     "name": "stdout",
     "output_type": "stream",
     "text": [
      "{'state': 'MD', 'expert_in': 'Finance', 'institution': 'University of Maryland', 'highest_degree': \"Bachelor's\", 'years_of_experience': '3', 'professional_summary': 'Experienced finance professional with a strong background in accounting functions, including accounts payable processing, general ledger entries, and financial reporting. Proven ability to supervise staff, maintain financial records, and provide excellent customer service in a banking environment.'}\n",
      "{'state': 'TX', 'expert_in': 'Accounting', 'institution': 'University of Houston', 'highest_degree': \"Bachelor's\", 'years_of_experience': '10', 'professional_summary': 'Degreed accountant with more than 10 years of diversified accounting experience seeking accounting position at a well-established company in Houston.'}\n",
      "{'state': 'TX', 'expert_in': 'Accounting', 'institution': 'Marshall University', 'highest_degree': \"Bachelor's\", 'years_of_experience': '0', 'professional_summary': 'Maintained a 4.0 GPA while completing 12 hours of upper level accounting courses.'}\n"
     ]
    }
   ],
   "source": [
    "for document in documents:\n",
    "    print(document.metadata)"
   ]
  },
  {
   "cell_type": "code",
   "execution_count": 32,
   "id": "c4962ef2-1660-49b7-93e2-0635caedf089",
   "metadata": {},
   "outputs": [
    {
     "name": "stdout",
     "output_type": "stream",
     "text": [
      "created\n"
     ]
    }
   ],
   "source": [
    "import os\n",
    "from llama_index.core import load_index_from_storage, StorageContext\n",
    "from llama_index.core import VectorStoreIndex\n",
    "from llama_index.core import Settings\n",
    "from llama_index.llms.openai import OpenAI\n",
    "from llama_index.embeddings.openai import OpenAIEmbedding\n",
    "from llama_index.vector_stores.chroma import ChromaVectorStore\n",
    "import chromadb\n",
    "\n",
    "chroma_path = './chroma_db'\n",
    "chroma_collection_name = 'chrm'\n",
    "\n",
    "Settings.llm = OpenAI(model='gpt-4o-mini', temperature=0.1)\n",
    "Settings.embed_model = OpenAIEmbedding()\n",
    "\n",
    "if os.path.exists(chroma_path):\n",
    "    chroma_client = chromadb.PersistentClient(path=chroma_path)\n",
    "    chroma_collection = chroma_client.get_or_create_collection(chroma_collection_name)\n",
    "    vector_store = ChromaVectorStore(chroma_collection=chroma_collection)\n",
    "    index = VectorStoreIndex.from_vector_store(vector_store)\n",
    "    print('loaded')\n",
    "else:\n",
    "    chroma_client = chromadb.PersistentClient(path=chroma_path)\n",
    "    chroma_collection = chroma_client.get_or_create_collection(chroma_collection_name)\n",
    "    vector_store = ChromaVectorStore(chroma_collection=chroma_collection)\n",
    "    storage_context = StorageContext.from_defaults(vector_store=vector_store)\n",
    "    index = VectorStoreIndex.from_documents(documents, storage_context=storage_context)\n",
    "    print('created')"
   ]
  },
  {
   "cell_type": "code",
   "execution_count": 34,
   "id": "d3d9060e-87b4-49b8-a270-7da462b1f5c4",
   "metadata": {},
   "outputs": [],
   "source": [
    "from llama_index.core.retrievers import VectorIndexAutoRetriever\n",
    "from llama_index.core.vector_stores.types import MetadataInfo, VectorStoreInfo\n",
    "\n",
    "all_metadata_info = []\n",
    "for field_name, field_info in ResumeMetadata.__fields__.items():\n",
    "    all_metadata_info.append(\n",
    "        MetadataInfo(\n",
    "            name=field_name,\n",
    "            type=str(field_info.annotation),\n",
    "            description=field_info.description,\n",
    "        )\n",
    "    )"
   ]
  },
  {
   "cell_type": "code",
   "execution_count": 35,
   "id": "d8ec0b17-afb7-4bde-aae6-297a8b14152c",
   "metadata": {},
   "outputs": [
    {
     "data": {
      "text/plain": [
       "[MetadataInfo(name='years_of_experience', type=\"<class 'int'>\", description='Number of years of work experience.'),\n",
       " MetadataInfo(name='state', type=\"<class 'str'>\", description=\"The candidate's current state where they live (2 letter state abbreviation e.g. CA, AZ etc.).\"),\n",
       " MetadataInfo(name='highest_degree', type='typing.Literal[\\'High School\\', \"Bachelor\\'s\", \"Master\\'s\", \\'Doctoral\\', \\'Professional\\']', description='The highest degree attained by the candidate.'),\n",
       " MetadataInfo(name='institution', type=\"<class 'str'>\", description='The institution from which the degree was earned.'),\n",
       " MetadataInfo(name='expert_in', type=\"typing.Literal['Accounting', 'Sales', 'Payroll', 'Inventory', 'Customer Service', 'Project Management', 'Finance', 'Bookkeeping']\", description='What the candidate is most experienced and skilled in.'),\n",
       " MetadataInfo(name='professional_summary', type=\"<class 'str'>\", description=\"A brief summary of the candidate's professional experience, background and career.\")]"
      ]
     },
     "execution_count": 35,
     "metadata": {},
     "output_type": "execute_result"
    }
   ],
   "source": [
    "all_metadata_info"
   ]
  },
  {
   "cell_type": "code",
   "execution_count": 36,
   "id": "0069c947-7cfd-4586-a255-7b5d0d8dbfe2",
   "metadata": {},
   "outputs": [],
   "source": [
    "vector_store_info = VectorStoreInfo(\n",
    "    content_info=\"list of resume of candidates\",\n",
    "    metadata_info=all_metadata_info,\n",
    ")\n",
    "retriever = VectorIndexAutoRetriever(index, vector_store_info, verbose=True)"
   ]
  },
  {
   "cell_type": "code",
   "execution_count": 39,
   "id": "efac935a-f46f-48f4-8063-3e43ae6a1270",
   "metadata": {},
   "outputs": [],
   "source": [
    "from llama_index.core.query_engine import RetrieverQueryEngine\n",
    "query_engine = RetrieverQueryEngine.from_args(retriever=retriever, streaming=True)"
   ]
  },
  {
   "cell_type": "code",
   "execution_count": 43,
   "id": "e69fe077-e191-4a25-a21f-cf8ff351f70b",
   "metadata": {},
   "outputs": [
    {
     "name": "stdout",
     "output_type": "stream",
     "text": [
      "Using query str: degree and university of the candidate\n",
      "Using filters: [('state', '==', 'MD')]\n",
      "The candidate has a Bachelor of Science Degree in Finance from the University of Maryland."
     ]
    }
   ],
   "source": [
    "resp = query_engine.query('what degree does the candidate in maryland have and from what uni?')\n",
    "for token in resp.response_gen:\n",
    "    print(token, end=\"\")"
   ]
  }
 ],
 "metadata": {
  "kernelspec": {
   "display_name": "Python 3 (ipykernel)",
   "language": "python",
   "name": "python3"
  },
  "language_info": {
   "codemirror_mode": {
    "name": "ipython",
    "version": 3
   },
   "file_extension": ".py",
   "mimetype": "text/x-python",
   "name": "python",
   "nbconvert_exporter": "python",
   "pygments_lexer": "ipython3",
   "version": "3.10.12"
  }
 },
 "nbformat": 4,
 "nbformat_minor": 5
}
